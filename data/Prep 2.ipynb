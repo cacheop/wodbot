{
 "cells": [
  {
   "cell_type": "code",
   "execution_count": 28,
   "metadata": {
    "collapsed": true
   },
   "outputs": [],
   "source": [
    "import pandas as pd\n",
    "import numpy as np\n",
    "\n",
    "df = pd.read_csv(\"dotcom2csv.csv\")\n",
    "\n",
    "df_out = pd.DataFrame()"
   ]
  },
  {
   "cell_type": "code",
   "execution_count": 29,
   "metadata": {},
   "outputs": [
    {
     "data": {
      "text/html": [
       "<div>\n",
       "<style>\n",
       "    .dataframe thead tr:only-child th {\n",
       "        text-align: right;\n",
       "    }\n",
       "\n",
       "    .dataframe thead th {\n",
       "        text-align: left;\n",
       "    }\n",
       "\n",
       "    .dataframe tbody tr th {\n",
       "        vertical-align: top;\n",
       "    }\n",
       "</style>\n",
       "<table border=\"1\" class=\"dataframe\">\n",
       "  <thead>\n",
       "    <tr style=\"text-align: right;\">\n",
       "      <th></th>\n",
       "      <th>in front of a clock set for 12 minutes: 1 minute of unbroken double-unders; 1 minute of 50 pounds dumbbell snatches; 2 minutes of unbroken double-unders; 2 minutes of 50 pounds dumbbell snatches; 3 minutes of unbroken double-unders; 3 minutes of 50 pounds dumbbell snatches .</th>\n",
       "    </tr>\n",
       "  </thead>\n",
       "  <tbody>\n",
       "    <tr>\n",
       "      <th>0</th>\n",
       "      <td>zimmerman ; complete as many rounds as possibl...</td>\n",
       "    </tr>\n",
       "    <tr>\n",
       "      <th>1</th>\n",
       "      <td>zeus ; 3 rounds for time of: 30 wall-ball shot...</td>\n",
       "    </tr>\n",
       "    <tr>\n",
       "      <th>2</th>\n",
       "      <td>zeus ; three rounds for time of: 30 wallballsh...</td>\n",
       "    </tr>\n",
       "    <tr>\n",
       "      <th>3</th>\n",
       "      <td>zercher squat 2-2-2-2-2-2-2-2-2-2 reps .</td>\n",
       "    </tr>\n",
       "    <tr>\n",
       "      <th>4</th>\n",
       "      <td>zembiec ; 5 rounds for time of: 11 back squats...</td>\n",
       "    </tr>\n",
       "  </tbody>\n",
       "</table>\n",
       "</div>"
      ],
      "text/plain": [
       "  in front of a clock set for 12 minutes: 1 minute of unbroken double-unders; 1 minute of 50 pounds dumbbell snatches; 2 minutes of unbroken double-unders; 2 minutes of 50 pounds dumbbell snatches; 3 minutes of unbroken double-unders; 3 minutes of 50 pounds dumbbell snatches .\n",
       "0  zimmerman ; complete as many rounds as possibl...                                                                                                                                                                                                                                 \n",
       "1  zeus ; 3 rounds for time of: 30 wall-ball shot...                                                                                                                                                                                                                                 \n",
       "2  zeus ; three rounds for time of: 30 wallballsh...                                                                                                                                                                                                                                 \n",
       "3           zercher squat 2-2-2-2-2-2-2-2-2-2 reps .                                                                                                                                                                                                                                 \n",
       "4  zembiec ; 5 rounds for time of: 11 back squats...                                                                                                                                                                                                                                 "
      ]
     },
     "execution_count": 29,
     "metadata": {},
     "output_type": "execute_result"
    }
   ],
   "source": [
    "df.head()"
   ]
  },
  {
   "cell_type": "code",
   "execution_count": 30,
   "metadata": {},
   "outputs": [],
   "source": [
    "df_out = df.drop_duplicates()"
   ]
  },
  {
   "cell_type": "code",
   "execution_count": 31,
   "metadata": {},
   "outputs": [
    {
     "data": {
      "text/html": [
       "<div>\n",
       "<style>\n",
       "    .dataframe thead tr:only-child th {\n",
       "        text-align: right;\n",
       "    }\n",
       "\n",
       "    .dataframe thead th {\n",
       "        text-align: left;\n",
       "    }\n",
       "\n",
       "    .dataframe tbody tr th {\n",
       "        vertical-align: top;\n",
       "    }\n",
       "</style>\n",
       "<table border=\"1\" class=\"dataframe\">\n",
       "  <thead>\n",
       "    <tr style=\"text-align: right;\">\n",
       "      <th></th>\n",
       "      <th>in front of a clock set for 12 minutes: 1 minute of unbroken double-unders; 1 minute of 50 pounds dumbbell snatches; 2 minutes of unbroken double-unders; 2 minutes of 50 pounds dumbbell snatches; 3 minutes of unbroken double-unders; 3 minutes of 50 pounds dumbbell snatches .</th>\n",
       "    </tr>\n",
       "  </thead>\n",
       "  <tbody>\n",
       "    <tr>\n",
       "      <th>0</th>\n",
       "      <td>zimmerman ; complete as many rounds as possibl...</td>\n",
       "    </tr>\n",
       "    <tr>\n",
       "      <th>1</th>\n",
       "      <td>zeus ; 3 rounds for time of: 30 wall-ball shot...</td>\n",
       "    </tr>\n",
       "    <tr>\n",
       "      <th>2</th>\n",
       "      <td>zeus ; three rounds for time of: 30 wallballsh...</td>\n",
       "    </tr>\n",
       "    <tr>\n",
       "      <th>3</th>\n",
       "      <td>zercher squat 2-2-2-2-2-2-2-2-2-2 reps .</td>\n",
       "    </tr>\n",
       "    <tr>\n",
       "      <th>4</th>\n",
       "      <td>zembiec ; 5 rounds for time of: 11 back squats...</td>\n",
       "    </tr>\n",
       "  </tbody>\n",
       "</table>\n",
       "</div>"
      ],
      "text/plain": [
       "  in front of a clock set for 12 minutes: 1 minute of unbroken double-unders; 1 minute of 50 pounds dumbbell snatches; 2 minutes of unbroken double-unders; 2 minutes of 50 pounds dumbbell snatches; 3 minutes of unbroken double-unders; 3 minutes of 50 pounds dumbbell snatches .\n",
       "0  zimmerman ; complete as many rounds as possibl...                                                                                                                                                                                                                                 \n",
       "1  zeus ; 3 rounds for time of: 30 wall-ball shot...                                                                                                                                                                                                                                 \n",
       "2  zeus ; three rounds for time of: 30 wallballsh...                                                                                                                                                                                                                                 \n",
       "3           zercher squat 2-2-2-2-2-2-2-2-2-2 reps .                                                                                                                                                                                                                                 \n",
       "4  zembiec ; 5 rounds for time of: 11 back squats...                                                                                                                                                                                                                                 "
      ]
     },
     "execution_count": 31,
     "metadata": {},
     "output_type": "execute_result"
    }
   ],
   "source": [
    "df_out.head()"
   ]
  },
  {
   "cell_type": "code",
   "execution_count": 32,
   "metadata": {},
   "outputs": [
    {
     "data": {
      "text/plain": [
       "in front of a clock set for 12 minutes: 1 minute of unbroken double-unders; 1 minute of 50 pounds dumbbell snatches; 2 minutes of unbroken double-unders; 2 minutes of 50 pounds dumbbell snatches; 3 minutes of unbroken double-unders; 3 minutes of 50 pounds dumbbell snatches .    10806\n",
       "dtype: int64"
      ]
     },
     "execution_count": 32,
     "metadata": {},
     "output_type": "execute_result"
    }
   ],
   "source": [
    "a = df.count()\n",
    "a"
   ]
  },
  {
   "cell_type": "code",
   "execution_count": 34,
   "metadata": {},
   "outputs": [
    {
     "data": {
      "text/plain": [
       "in front of a clock set for 12 minutes: 1 minute of unbroken double-unders; 1 minute of 50 pounds dumbbell snatches; 2 minutes of unbroken double-unders; 2 minutes of 50 pounds dumbbell snatches; 3 minutes of unbroken double-unders; 3 minutes of 50 pounds dumbbell snatches .    7071\n",
       "dtype: int64"
      ]
     },
     "execution_count": 34,
     "metadata": {},
     "output_type": "execute_result"
    }
   ],
   "source": [
    "a = df_out.count()\n",
    "a"
   ]
  },
  {
   "cell_type": "code",
   "execution_count": 35,
   "metadata": {
    "collapsed": true
   },
   "outputs": [],
   "source": [
    "df_out.to_csv(\"dotcom_out.csv\", index=False, index_label=False)"
   ]
  },
  {
   "cell_type": "code",
   "execution_count": null,
   "metadata": {
    "collapsed": true
   },
   "outputs": [],
   "source": []
  }
 ],
 "metadata": {
  "kernelspec": {
   "display_name": "Python 3",
   "language": "python",
   "name": "python3"
  },
  "language_info": {
   "codemirror_mode": {
    "name": "ipython",
    "version": 3
   },
   "file_extension": ".py",
   "mimetype": "text/x-python",
   "name": "python",
   "nbconvert_exporter": "python",
   "pygments_lexer": "ipython3",
   "version": "3.6.1"
  }
 },
 "nbformat": 4,
 "nbformat_minor": 2
}
