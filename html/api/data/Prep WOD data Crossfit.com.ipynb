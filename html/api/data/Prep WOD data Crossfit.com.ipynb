{
 "cells": [
  {
   "cell_type": "code",
   "execution_count": 88,
   "metadata": {
    "collapsed": true
   },
   "outputs": [],
   "source": [
    "import pandas as pd\n",
    "import numpy as np"
   ]
  },
  {
   "cell_type": "code",
   "execution_count": 89,
   "metadata": {},
   "outputs": [],
   "source": [
    "df = pd.read_csv(\"dotcom.csv\")\n",
    "df_out = pd.DataFrame()"
   ]
  },
  {
   "cell_type": "code",
   "execution_count": 90,
   "metadata": {},
   "outputs": [],
   "source": [
    "for index, row in df.iterrows():\n",
    "    if (row[0] == \"Rest Day\"):\n",
    "        df.drop(index, inplace=True)\n",
    "    if (\"Post\" in str(row[1])):\n",
    "        df.loc[index, 'wod2'] = \"\"\n"
   ]
  },
  {
   "cell_type": "code",
   "execution_count": 91,
   "metadata": {},
   "outputs": [],
   "source": [
    "for index, row in df.iterrows():\n",
    "    if (pd.isnull(df.loc[index, 'wod1'])):    \n",
    "        w1 = \"\"\n",
    "    else:\n",
    "        w1 = df.loc[index, 'wod1']\n",
    "    \n",
    "    if (pd.isnull(df.loc[index, 'wod2'])):    \n",
    "        w2 = \"\"\n",
    "    else:\n",
    "        w2 = df.loc[index, 'wod2']\n",
    "        \n",
    "    if (w2 != \"\"):\n",
    "        w1 =\"\"\n",
    "        \n",
    "    w3 = w1 + w2\n",
    "    w3 = w3.strip('\\n')\n",
    "    w3 = w3.strip('\\t')\n",
    "    w3 = w3.strip('\"')\n",
    "\n",
    "    df.loc[index, 'wod1'] = w3 \n",
    "    df.loc[index, 'wod2'] = \"\"\n",
    "\n",
    "\n"
   ]
  },
  {
   "cell_type": "code",
   "execution_count": 92,
   "metadata": {},
   "outputs": [
    {
     "data": {
      "text/html": [
       "<div>\n",
       "<style>\n",
       "    .dataframe thead tr:only-child th {\n",
       "        text-align: right;\n",
       "    }\n",
       "\n",
       "    .dataframe thead th {\n",
       "        text-align: left;\n",
       "    }\n",
       "\n",
       "    .dataframe tbody tr th {\n",
       "        vertical-align: top;\n",
       "    }\n",
       "</style>\n",
       "<table border=\"1\" class=\"dataframe\">\n",
       "  <thead>\n",
       "    <tr style=\"text-align: right;\">\n",
       "      <th></th>\n",
       "      <th>wod1</th>\n",
       "    </tr>\n",
       "  </thead>\n",
       "  <tbody>\n",
       "    <tr>\n",
       "      <th>0</th>\n",
       "      <td>In front of a clock set for 12 minutes:\\n1 min...</td>\n",
       "    </tr>\n",
       "    <tr>\n",
       "      <th>1</th>\n",
       "      <td>5 attempts at each of the following:\\nBroad ju...</td>\n",
       "    </tr>\n",
       "    <tr>\n",
       "      <th>2</th>\n",
       "      <td>4 rounds for time of:\\n30 push-ups\\n115-lb. fr...</td>\n",
       "    </tr>\n",
       "    <tr>\n",
       "      <th>4</th>\n",
       "      <td>Rest 1 minute</td>\n",
       "    </tr>\n",
       "    <tr>\n",
       "      <th>5</th>\n",
       "      <td>Back squat 5-5-5-5-5 reps</td>\n",
       "    </tr>\n",
       "  </tbody>\n",
       "</table>\n",
       "</div>"
      ],
      "text/plain": [
       "                                                wod1\n",
       "0  In front of a clock set for 12 minutes:\\n1 min...\n",
       "1  5 attempts at each of the following:\\nBroad ju...\n",
       "2  4 rounds for time of:\\n30 push-ups\\n115-lb. fr...\n",
       "4                                      Rest 1 minute\n",
       "5                          Back squat 5-5-5-5-5 reps"
      ]
     },
     "execution_count": 92,
     "metadata": {},
     "output_type": "execute_result"
    }
   ],
   "source": [
    "df.drop(df.columns[[1]], axis=1, inplace=True)\n",
    "df.head()"
   ]
  },
  {
   "cell_type": "code",
   "execution_count": 93,
   "metadata": {
    "collapsed": true
   },
   "outputs": [],
   "source": [
    "df.to_csv(\"dotcom_out.csv\", index=False, index_label=False)"
   ]
  },
  {
   "cell_type": "code",
   "execution_count": null,
   "metadata": {
    "collapsed": true
   },
   "outputs": [],
   "source": []
  },
  {
   "cell_type": "code",
   "execution_count": null,
   "metadata": {
    "collapsed": true
   },
   "outputs": [],
   "source": []
  }
 ],
 "metadata": {
  "kernelspec": {
   "display_name": "Python 3",
   "language": "python",
   "name": "python3"
  },
  "language_info": {
   "codemirror_mode": {
    "name": "ipython",
    "version": 3
   },
   "file_extension": ".py",
   "mimetype": "text/x-python",
   "name": "python",
   "nbconvert_exporter": "python",
   "pygments_lexer": "ipython3",
   "version": "3.6.1"
  }
 },
 "nbformat": 4,
 "nbformat_minor": 2
}
