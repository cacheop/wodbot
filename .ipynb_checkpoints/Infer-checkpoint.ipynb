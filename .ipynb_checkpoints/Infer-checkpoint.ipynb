{
 "cells": [
  {
   "cell_type": "code",
   "execution_count": 3,
   "metadata": {
    "collapsed": true
   },
   "outputs": [],
   "source": [
    "import numpy as np\n",
    "import tensorflow as tf"
   ]
  },
  {
   "cell_type": "code",
   "execution_count": 4,
   "metadata": {},
   "outputs": [],
   "source": [
    "import tensorflow as tf\n",
    "import numpy as np\n",
    "import helper\n",
    "import problem_unittests as tests\n",
    "\n",
    "_, vocab_to_int, int_to_vocab, token_dict = helper.load_preprocess()\n",
    "seq_length, load_dir = helper.load_params()"
   ]
  },
  {
   "cell_type": "code",
   "execution_count": 5,
   "metadata": {
    "collapsed": true
   },
   "outputs": [],
   "source": [
    "import tensorflow as tf\n",
    "import numpy as np\n",
    "import helper\n",
    "import problem_unittests as tests\n",
    "\n",
    "_, vocab_to_int, int_to_vocab, token_dict = helper.load_preprocess()\n",
    "seq_length, load_dir = helper.load_params()"
   ]
  },
  {
   "cell_type": "code",
   "execution_count": 6,
   "metadata": {
    "collapsed": true
   },
   "outputs": [],
   "source": [
    "def get_tensors(loaded_graph):\n",
    "    \"\"\"\n",
    "    Get input, initial state, final state, and probabilities tensor from <loaded_graph>\n",
    "    :param loaded_graph: TensorFlow graph loaded from file\n",
    "    :return: Tuple (InputTensor, InitialStateTensor, FinalStateTensor, ProbsTensor)\n",
    "    \"\"\"\n",
    "    return \\\n",
    "        loaded_graph.get_tensor_by_name(\"input:0\"), \\\n",
    "        loaded_graph.get_tensor_by_name(\"initial_state:0\"), \\\n",
    "        loaded_graph.get_tensor_by_name(\"final_state:0\"), \\\n",
    "        loaded_graph.get_tensor_by_name(\"probs:0\")"
   ]
  },
  {
   "cell_type": "code",
   "execution_count": 7,
   "metadata": {
    "collapsed": true
   },
   "outputs": [],
   "source": [
    "def pick_word(probabilities, int_to_vocab):\n",
    "    possibilities = []\n",
    "    for ix, prob in enumerate(probabilities):\n",
    "        if prob >= .05:\n",
    "            possibilities.append(int_to_vocab[ix])\n",
    "    rand = np.random.randint(0, len(possibilities))\n",
    "    \n",
    "    return str(possibilities[rand])\n",
    "    "
   ]
  },
  {
   "cell_type": "code",
   "execution_count": 9,
   "metadata": {},
   "outputs": [
    {
     "name": "stdout",
     "output_type": "stream",
     "text": [
      "INFO:tensorflow:Restoring parameters from ./save\n",
      "squat: let 27-21-15-9 shots deadlift 10; 10 bench hang hspu ]) 5 x walk on 3 x 1 strict pull-up ]\n",
      "-----------------\n",
      "[ 5 rounds; 10 min amrap; 200 meters run; 2 burpees ]\n",
      "-----------------\n",
      "[ 5 rounds; 1 rope climb; 12 push press, 6 reps: 12 dumbbell push presses; 4 heavy kettlebell or dumbbell swings; 5 ring dips; 5 pull ups, 5 burpees, 10 air squats; 12 lunges; 12 15 ring rows; 10 push ups; 15 squats ]\n",
      "-----------------\n",
      "[ 10 min amrap; 10 strict dips or strict pull-ups; 12 box jumps, 24 /20; 400 meters run; 40 unbroken double-unders ]\n",
      "-----------------\n",
      "[ 5 cnj 95/65 pounds; 10 wall ball; 20 sit-ups; 15 pull-ups ]\n",
      "-----------------\n",
      "[ air squats, max reps: pull-ups;(woman post rounds, load, deadlift, 1 rep ]\n",
      "-----------------\n",
      "[ for time: 1/2 body weight power clean 15 reps: 30 ghd sit-ups; 9 muscle-ups; 95 pound push press, 15 reps ]\n",
      "-----------------\n",
      "[ five rounds for time of: 45 pound barbell overhead walking lunges, 50 feet 21 burpees; let trailing knee gently kiss the ground on each lunge ]\n",
      "-----------------\n",
      "[ 5 rounds for time of: 400 meters run; 95 pounds squat clean, 15 reps: 400 meter run 15 foot rope climb, 2 ascents and sprint 100 ft walking lunge; 5 burpee pull-ups; 10 pull-ups ]\n",
      "-----------------\n",
      "[ 30 muscle-ups for time; 30 kettlebells 70/53; 15 calories row; 50 wall balls, 20/14 pounds; 10 box jumps 24/20; 150 meters row; 25 kb swings, 70/53/35 pounds; 3 toes-to-bar; 95/65 pounds ]\n",
      "-----------------\n",
      "[ 3 rounds; 15 pc 115/85; 30 box jumps, 30 inch box; 15 box jumps, 24 inch box; 10 burpees; run 400 meters ]\n",
      "-----------------\n",
      "[ hero wod: jt; wod type: for time; 21-15-9; deadlift 225/185; hspu(scaled = hr push-ups); then; for time: 100 push-ups; 100 meters row; 65 pound push press, 1 rep; 15 ring\n"
     ]
    }
   ],
   "source": [
    "gen_length = 380\n",
    "prime_word = 'squat'\n",
    "\n",
    "\"\"\"\n",
    "DON'T MODIFY ANYTHING IN THIS CELL THAT IS BELOW THIS LINE\n",
    "\"\"\"\n",
    "loaded_graph = tf.Graph()\n",
    "with tf.Session(graph=loaded_graph) as sess:\n",
    "    # Load saved model\n",
    "    loader = tf.train.import_meta_graph(load_dir + '.meta')\n",
    "    loader.restore(sess, load_dir)\n",
    "\n",
    "    # Get Tensors from loaded model\n",
    "    input_text, initial_state, final_state, probs = get_tensors(loaded_graph)\n",
    "\n",
    "    # Sentences generation setup\n",
    "    gen_sentences = [prime_word + ':']\n",
    "    prev_state = sess.run(initial_state, {input_text: np.array([[1]])})\n",
    "\n",
    "    # Generate sentences\n",
    "    for n in range(gen_length):\n",
    "        # Dynamic Input\n",
    "        dyn_input = [[vocab_to_int[word] for word in gen_sentences[-seq_length:]]]\n",
    "        dyn_seq_length = len(dyn_input[0])\n",
    "\n",
    "        # Get Prediction\n",
    "        probabilities, prev_state = sess.run(\n",
    "            [probs, final_state],\n",
    "            {input_text: dyn_input, initial_state: prev_state})\n",
    "        \n",
    "        pred_word = pick_word(probabilities[dyn_seq_length-1], int_to_vocab)\n",
    "\n",
    "        gen_sentences.append(pred_word)\n",
    "    \n",
    "    # Remove tokens\n",
    "    tv_script = ' '.join(gen_sentences)\n",
    "    for key, token in token_dict.items():\n",
    "        ending = ' ' if key in ['\\n', '(', '\"'] else ''\n",
    "        tv_script = tv_script.replace(' ' + token.lower(), key)\n",
    "    tv_script = tv_script.replace('\\n ', '\\n-----------------\\n')\n",
    "    tv_script = tv_script.replace('( ', '(')\n",
    "    \n",
    "    print(tv_script)"
   ]
  },
  {
   "cell_type": "code",
   "execution_count": null,
   "metadata": {
    "collapsed": true
   },
   "outputs": [],
   "source": []
  }
 ],
 "metadata": {
  "kernelspec": {
   "display_name": "Python 3",
   "language": "python",
   "name": "python3"
  },
  "language_info": {
   "codemirror_mode": {
    "name": "ipython",
    "version": 3
   },
   "file_extension": ".py",
   "mimetype": "text/x-python",
   "name": "python",
   "nbconvert_exporter": "python",
   "pygments_lexer": "ipython3",
   "version": "3.6.1"
  }
 },
 "nbformat": 4,
 "nbformat_minor": 2
}
